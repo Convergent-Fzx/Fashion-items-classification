{
 "cells": [
  {
   "cell_type": "code",
   "execution_count": 6,
   "id": "f159507a-d9b1-4c0a-9ce4-ba5607a2e6ac",
   "metadata": {},
   "outputs": [],
   "source": [
    "import json\n",
    "import pandas as pd\n",
    "import shutil\n",
    "import os"
   ]
  },
  {
   "cell_type": "code",
   "execution_count": 2,
   "id": "bdb18b83-adeb-40cb-aaf7-f79ec764e4dd",
   "metadata": {},
   "outputs": [],
   "source": [
    "def move_image(source_path, destination_folder):\n",
    "    if not os.path.exists(destination_folder):\n",
    "        os.makedirs(destination_folder)\n",
    "    \n",
    "    image_name = os.path.basename(source_path)\n",
    "    \n",
    "    destination_path = os.path.join(destination_folder, image_name)\n",
    "    \n",
    "    try:\n",
    "        shutil.move(source_path, destination_path)\n",
    "    except FileNotFoundError:\n",
    "        print(source_path)"
   ]
  },
  {
   "cell_type": "code",
   "execution_count": 4,
   "id": "5950e185-c498-4f0e-a557-5aaa075aa636",
   "metadata": {},
   "outputs": [],
   "source": [
    "def extract_lat_labels_from_json(json_path):\n",
    "    with open(json_path, \"r\") as file:\n",
    "        data = json.load(file)\n",
    "    \n",
    "    labels = {}\n",
    "    for item in data:\n",
    "        for img_id in item['question']:\n",
    "            category, img_num = img_id.split('_')\n",
    "            labels[img_num] = category\n",
    "        for img_id in item['answers']:\n",
    "            category, img_num = img_id.split('_')\n",
    "            labels[img_num] = category\n",
    "\n",
    "    label_to_int = {'Neckline': 0, 'Bracelet': 0, 'Earing': 0, 'Hat': 0, 'Bags':1, 'Skirt':2, 'Dress':2, 'Pants':3, \n",
    "                   'Shoes':4, 'Sunglasses': 5, 'Top':6, 'Outwear':6, 'Watches':7}\n",
    "    \n",
    "\n",
    "    int_labels = {img_num: label_to_int[label] for img_num, label in labels.items()}\n",
    "    \n",
    "    return int_labels"
   ]
  },
  {
   "cell_type": "code",
   "execution_count": 7,
   "id": "58ade4df-1e78-40a0-8d74-1e8d953b0d6f",
   "metadata": {},
   "outputs": [],
   "source": [
    "lat_label_path = 'C:/Users/FranciscoX/Desktop/fashion-dataset/LAT/label/LAT.json'\n",
    "lat_path = 'C:/Users/FranciscoX/Desktop/fashion-dataset/LAT/image'\n",
    "lat_labels = extract_labels_from_json(lat_label_path)"
   ]
  },
  {
   "cell_type": "code",
   "execution_count": 32,
   "id": "56fa470e-1bce-409f-8554-f7c4a11bd7ea",
   "metadata": {},
   "outputs": [],
   "source": [
    "df1 = pd.DataFrame(list(lat_labels.items()), columns=['id', 'label'])"
   ]
  },
  {
   "cell_type": "code",
   "execution_count": 49,
   "id": "43d12d88-9949-4fa4-acb2-a2e079b5e60c",
   "metadata": {},
   "outputs": [],
   "source": [
    "def get_cat(num):\n",
    "    if num == 1:\n",
    "        return 0\n",
    "    elif num in [2,3,6]:\n",
    "        return 1\n",
    "    elif num in [0,5,7]:\n",
    "        return 2\n",
    "    else:\n",
    "        return 3"
   ]
  },
  {
   "cell_type": "code",
   "execution_count": 54,
   "id": "01886dc9-fd1c-4e4e-acab-bade29415f77",
   "metadata": {},
   "outputs": [],
   "source": [
    "df1['category'] =  df1['label'].apply(get_cat)\n",
    "df1 = df1.reindex(columns=['id', 'category', 'label'])"
   ]
  },
  {
   "cell_type": "code",
   "execution_count": 81,
   "id": "b8b79267-07a0-4c51-bbe5-76a9d639fb90",
   "metadata": {},
   "outputs": [],
   "source": [
    "def extract_aat_labels_from_json(json_path):\n",
    "    with open(json_path, \"r\") as file:\n",
    "        data = json.load(file)\n",
    "    \n",
    "    labels = {}\n",
    "    for item in data:\n",
    "        for img_id in item['question']:\n",
    "            category, img_num = img_id.split('_')\n",
    "            labels[img_num] = category\n",
    "        for img_id in item['answers']:\n",
    "            category, img_num = img_id.split('_')\n",
    "            labels[img_num] = category\n",
    "\n",
    "    for keys in labels:\n",
    "        labels[keys] = labels[keys].split('/')\n",
    "        if labels[keys][0] in ['Bags', 'Shoes']:\n",
    "            labels[keys] = labels[keys][0]\n",
    "        elif labels[keys][1] in ['Outwear', 'Tops']:\n",
    "            labels[keys] = 'Tops'\n",
    "        elif labels[keys][1] in ['Trousers', 'Jumpsuits']:\n",
    "            labels[keys] = 'Pants'\n",
    "        elif labels[keys][1] in ['Skirts', 'Dresses']:\n",
    "            labels[keys] = 'Dress'\n",
    "        elif labels[keys][1] == 'Watches':\n",
    "            labels[keys] = 'Watches'\n",
    "        elif labels[keys][1] == 'Eyewears':\n",
    "            labels[keys] = 'Sunglasses'\n",
    "        else:\n",
    "            labels[keys] = labels[keys][0]\n",
    "    \n",
    "    label_to_int = {'Accessories': 0, 'Bags': 1, 'Dress': 2, 'Pants': 3, \n",
    "                    'Shoes': 4, 'Sunglasses': 5, 'Tops': 6, 'Watches': 7}\n",
    "    int_labels = {img_num: label_to_int[label] for img_num, label in labels.items()}\n",
    "    \n",
    "    return int_labels"
   ]
  },
  {
   "cell_type": "code",
   "execution_count": 82,
   "id": "0c74da37-d419-4819-9d41-d04e0093558d",
   "metadata": {},
   "outputs": [],
   "source": [
    "aat_label_path = 'C:/Users/FranciscoX/Desktop/fashion-dataset/AAT/label/AAT.json'\n",
    "aat_path = 'C:/Users/FranciscoX/Desktop/fashion-dataset/AAT/image'\n",
    "aat_labels = extract_aat_labels_from_json(aat_label_path)"
   ]
  },
  {
   "cell_type": "code",
   "execution_count": 84,
   "id": "b883dd26-82e2-42a3-a137-a7ff8af035c3",
   "metadata": {},
   "outputs": [],
   "source": [
    "df2 = pd.DataFrame(list(aat_labels.items()), columns=['id', 'label'])\n",
    "df2['category'] =  df2['label'].apply(get_cat)\n",
    "df2 = df2.reindex(columns=['id', 'category', 'label'])"
   ]
  },
  {
   "cell_type": "code",
   "execution_count": 86,
   "id": "6445133c-fe76-4a38-8ac4-206cb73aa095",
   "metadata": {},
   "outputs": [],
   "source": [
    "total_tag = pd.concat([df1, df2], ignore_index= False)"
   ]
  },
  {
   "cell_type": "code",
   "execution_count": 87,
   "id": "0224eb08-fa1f-4ed0-811c-1e59e42d34d6",
   "metadata": {},
   "outputs": [
    {
     "data": {
      "text/html": [
       "<div>\n",
       "<style scoped>\n",
       "    .dataframe tbody tr th:only-of-type {\n",
       "        vertical-align: middle;\n",
       "    }\n",
       "\n",
       "    .dataframe tbody tr th {\n",
       "        vertical-align: top;\n",
       "    }\n",
       "\n",
       "    .dataframe thead th {\n",
       "        text-align: right;\n",
       "    }\n",
       "</style>\n",
       "<table border=\"1\" class=\"dataframe\">\n",
       "  <thead>\n",
       "    <tr style=\"text-align: right;\">\n",
       "      <th></th>\n",
       "      <th>id</th>\n",
       "      <th>category</th>\n",
       "      <th>label</th>\n",
       "    </tr>\n",
       "  </thead>\n",
       "  <tbody>\n",
       "    <tr>\n",
       "      <th>0</th>\n",
       "      <td>P00462138</td>\n",
       "      <td>1</td>\n",
       "      <td>3</td>\n",
       "    </tr>\n",
       "    <tr>\n",
       "      <th>1</th>\n",
       "      <td>P00447042</td>\n",
       "      <td>3</td>\n",
       "      <td>4</td>\n",
       "    </tr>\n",
       "    <tr>\n",
       "      <th>2</th>\n",
       "      <td>P00462123</td>\n",
       "      <td>1</td>\n",
       "      <td>6</td>\n",
       "    </tr>\n",
       "    <tr>\n",
       "      <th>3</th>\n",
       "      <td>P00425745</td>\n",
       "      <td>0</td>\n",
       "      <td>1</td>\n",
       "    </tr>\n",
       "    <tr>\n",
       "      <th>4</th>\n",
       "      <td>P00440101</td>\n",
       "      <td>1</td>\n",
       "      <td>6</td>\n",
       "    </tr>\n",
       "    <tr>\n",
       "      <th>...</th>\n",
       "      <td>...</td>\n",
       "      <td>...</td>\n",
       "      <td>...</td>\n",
       "    </tr>\n",
       "    <tr>\n",
       "      <th>978</th>\n",
       "      <td>100A01</td>\n",
       "      <td>2</td>\n",
       "      <td>0</td>\n",
       "    </tr>\n",
       "    <tr>\n",
       "      <th>979</th>\n",
       "      <td>100A03</td>\n",
       "      <td>2</td>\n",
       "      <td>0</td>\n",
       "    </tr>\n",
       "    <tr>\n",
       "      <th>980</th>\n",
       "      <td>100A10</td>\n",
       "      <td>2</td>\n",
       "      <td>0</td>\n",
       "    </tr>\n",
       "    <tr>\n",
       "      <th>981</th>\n",
       "      <td>100A02</td>\n",
       "      <td>2</td>\n",
       "      <td>0</td>\n",
       "    </tr>\n",
       "    <tr>\n",
       "      <th>982</th>\n",
       "      <td>100A04</td>\n",
       "      <td>2</td>\n",
       "      <td>0</td>\n",
       "    </tr>\n",
       "  </tbody>\n",
       "</table>\n",
       "<p>1663 rows × 3 columns</p>\n",
       "</div>"
      ],
      "text/plain": [
       "            id  category  label\n",
       "0    P00462138         1      3\n",
       "1    P00447042         3      4\n",
       "2    P00462123         1      6\n",
       "3    P00425745         0      1\n",
       "4    P00440101         1      6\n",
       "..         ...       ...    ...\n",
       "978     100A01         2      0\n",
       "979     100A03         2      0\n",
       "980     100A10         2      0\n",
       "981     100A02         2      0\n",
       "982     100A04         2      0\n",
       "\n",
       "[1663 rows x 3 columns]"
      ]
     },
     "execution_count": 87,
     "metadata": {},
     "output_type": "execute_result"
    }
   ],
   "source": [
    "total_tag"
   ]
  },
  {
   "cell_type": "code",
   "execution_count": 89,
   "id": "3226f8e2-c09f-465b-a017-7646e9942dfc",
   "metadata": {},
   "outputs": [],
   "source": [
    "total_tag.to_csv('a100_tag.csv', index = False)"
   ]
  },
  {
   "cell_type": "code",
   "execution_count": 90,
   "id": "16ef86be-00a9-4470-8695-452007319026",
   "metadata": {},
   "outputs": [],
   "source": [
    "for i in range(len(df1)):\n",
    "    image_path = 'C:/Users/FranciscoX/Desktop/fashion-dataset/LAT/image/' + str(df1.iloc[i, 0]) + '.jpg'\n",
    "    move_image(image_path, 'C:/Users/FranciscoX/Desktop/fashion-dataset/a100/labelled')"
   ]
  },
  {
   "cell_type": "code",
   "execution_count": 92,
   "id": "b7a420d1-e99d-427f-aa3c-978f4a640665",
   "metadata": {},
   "outputs": [],
   "source": [
    "for i in range(len(df2)):\n",
    "    image_path = 'C:/Users/FranciscoX/Desktop/fashion-dataset/AAT/image/' + str(df2.iloc[i, 0]) + '.jpg'\n",
    "    move_image(image_path, 'C:/Users/FranciscoX/Desktop/fashion-dataset/a100/labelled')"
   ]
  },
  {
   "cell_type": "code",
   "execution_count": null,
   "id": "f0119ada-b707-4f9c-b0e8-3cd244d994e9",
   "metadata": {},
   "outputs": [],
   "source": []
  },
  {
   "cell_type": "code",
   "execution_count": 93,
   "id": "0b7481ef-390b-4186-9ee7-de1f959b77ea",
   "metadata": {},
   "outputs": [
    {
     "data": {
      "text/plain": [
       "category\n",
       "1    639\n",
       "2    421\n",
       "3    314\n",
       "0    289\n",
       "Name: count, dtype: int64"
      ]
     },
     "execution_count": 93,
     "metadata": {},
     "output_type": "execute_result"
    }
   ],
   "source": [
    "total_tag['category'].value_counts()"
   ]
  },
  {
   "cell_type": "code",
   "execution_count": 94,
   "id": "4a795741-ec45-494e-bebe-a1cbe951169d",
   "metadata": {},
   "outputs": [
    {
     "data": {
      "text/plain": [
       "label\n",
       "0    371\n",
       "4    314\n",
       "6    296\n",
       "1    289\n",
       "2    215\n",
       "3    128\n",
       "7     43\n",
       "5      7\n",
       "Name: count, dtype: int64"
      ]
     },
     "execution_count": 94,
     "metadata": {},
     "output_type": "execute_result"
    }
   ],
   "source": [
    "total_tag['label'].value_counts()"
   ]
  },
  {
   "cell_type": "code",
   "execution_count": null,
   "id": "6efe0a8d-07c8-4c75-ac77-f97b36769816",
   "metadata": {},
   "outputs": [],
   "source": []
  }
 ],
 "metadata": {
  "kernelspec": {
   "display_name": "Python 3 (ipykernel)",
   "language": "python",
   "name": "python3"
  },
  "language_info": {
   "codemirror_mode": {
    "name": "ipython",
    "version": 3
   },
   "file_extension": ".py",
   "mimetype": "text/x-python",
   "name": "python",
   "nbconvert_exporter": "python",
   "pygments_lexer": "ipython3",
   "version": "3.11.9"
  }
 },
 "nbformat": 4,
 "nbformat_minor": 5
}
